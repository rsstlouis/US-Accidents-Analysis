{
 "cells": [
  {
   "cell_type": "markdown",
   "id": "2ca3240d",
   "metadata": {},
   "source": [
    "#                                Analysis of Accidents in USA"
   ]
  },
  {
   "cell_type": "code",
   "execution_count": 1,
   "id": "4625e861",
   "metadata": {},
   "outputs": [],
   "source": [
    "# Import Libraries\n",
    "\n",
    "import numpy as np\n",
    "import pandas as pd\n",
    "import matplotlib.pyplot as plt"
   ]
  },
  {
   "cell_type": "code",
   "execution_count": 2,
   "id": "e544a517",
   "metadata": {},
   "outputs": [],
   "source": [
    "# Load the csv file in Data Frame\n",
    "\n",
    "df = pd.read_csv(r\"C:\\Users\\ruchi\\Downloads\\archive (4)\\US_Accidents_Dec21_updated.csv\")"
   ]
  },
  {
   "cell_type": "code",
   "execution_count": 3,
   "id": "1c8095fe",
   "metadata": {
    "scrolled": false
   },
   "outputs": [
    {
     "data": {
      "text/html": [
       "<div>\n",
       "<style scoped>\n",
       "    .dataframe tbody tr th:only-of-type {\n",
       "        vertical-align: middle;\n",
       "    }\n",
       "\n",
       "    .dataframe tbody tr th {\n",
       "        vertical-align: top;\n",
       "    }\n",
       "\n",
       "    .dataframe thead th {\n",
       "        text-align: right;\n",
       "    }\n",
       "</style>\n",
       "<table border=\"1\" class=\"dataframe\">\n",
       "  <thead>\n",
       "    <tr style=\"text-align: right;\">\n",
       "      <th></th>\n",
       "      <th>ID</th>\n",
       "      <th>Severity</th>\n",
       "      <th>Start_Time</th>\n",
       "      <th>End_Time</th>\n",
       "      <th>Start_Lat</th>\n",
       "      <th>Start_Lng</th>\n",
       "      <th>End_Lat</th>\n",
       "      <th>End_Lng</th>\n",
       "      <th>Distance(mi)</th>\n",
       "      <th>Description</th>\n",
       "      <th>...</th>\n",
       "      <th>Roundabout</th>\n",
       "      <th>Station</th>\n",
       "      <th>Stop</th>\n",
       "      <th>Traffic_Calming</th>\n",
       "      <th>Traffic_Signal</th>\n",
       "      <th>Turning_Loop</th>\n",
       "      <th>Sunrise_Sunset</th>\n",
       "      <th>Civil_Twilight</th>\n",
       "      <th>Nautical_Twilight</th>\n",
       "      <th>Astronomical_Twilight</th>\n",
       "    </tr>\n",
       "  </thead>\n",
       "  <tbody>\n",
       "    <tr>\n",
       "      <th>0</th>\n",
       "      <td>A-1</td>\n",
       "      <td>3</td>\n",
       "      <td>2016-02-08 00:37:08</td>\n",
       "      <td>2016-02-08 06:37:08</td>\n",
       "      <td>40.10891</td>\n",
       "      <td>-83.09286</td>\n",
       "      <td>40.11206</td>\n",
       "      <td>-83.03187</td>\n",
       "      <td>3.230</td>\n",
       "      <td>Between Sawmill Rd/Exit 20 and OH-315/Olentang...</td>\n",
       "      <td>...</td>\n",
       "      <td>False</td>\n",
       "      <td>False</td>\n",
       "      <td>False</td>\n",
       "      <td>False</td>\n",
       "      <td>False</td>\n",
       "      <td>False</td>\n",
       "      <td>Night</td>\n",
       "      <td>Night</td>\n",
       "      <td>Night</td>\n",
       "      <td>Night</td>\n",
       "    </tr>\n",
       "    <tr>\n",
       "      <th>1</th>\n",
       "      <td>A-2</td>\n",
       "      <td>2</td>\n",
       "      <td>2016-02-08 05:56:20</td>\n",
       "      <td>2016-02-08 11:56:20</td>\n",
       "      <td>39.86542</td>\n",
       "      <td>-84.06280</td>\n",
       "      <td>39.86501</td>\n",
       "      <td>-84.04873</td>\n",
       "      <td>0.747</td>\n",
       "      <td>At OH-4/OH-235/Exit 41 - Accident.</td>\n",
       "      <td>...</td>\n",
       "      <td>False</td>\n",
       "      <td>False</td>\n",
       "      <td>False</td>\n",
       "      <td>False</td>\n",
       "      <td>False</td>\n",
       "      <td>False</td>\n",
       "      <td>Night</td>\n",
       "      <td>Night</td>\n",
       "      <td>Night</td>\n",
       "      <td>Night</td>\n",
       "    </tr>\n",
       "  </tbody>\n",
       "</table>\n",
       "<p>2 rows × 47 columns</p>\n",
       "</div>"
      ],
      "text/plain": [
       "    ID  Severity           Start_Time             End_Time  Start_Lat  \\\n",
       "0  A-1         3  2016-02-08 00:37:08  2016-02-08 06:37:08   40.10891   \n",
       "1  A-2         2  2016-02-08 05:56:20  2016-02-08 11:56:20   39.86542   \n",
       "\n",
       "   Start_Lng   End_Lat   End_Lng  Distance(mi)  \\\n",
       "0  -83.09286  40.11206 -83.03187         3.230   \n",
       "1  -84.06280  39.86501 -84.04873         0.747   \n",
       "\n",
       "                                         Description  ...  Roundabout Station  \\\n",
       "0  Between Sawmill Rd/Exit 20 and OH-315/Olentang...  ...       False   False   \n",
       "1                 At OH-4/OH-235/Exit 41 - Accident.  ...       False   False   \n",
       "\n",
       "    Stop Traffic_Calming Traffic_Signal Turning_Loop Sunrise_Sunset  \\\n",
       "0  False           False          False        False          Night   \n",
       "1  False           False          False        False          Night   \n",
       "\n",
       "  Civil_Twilight Nautical_Twilight Astronomical_Twilight  \n",
       "0          Night             Night                 Night  \n",
       "1          Night             Night                 Night  \n",
       "\n",
       "[2 rows x 47 columns]"
      ]
     },
     "execution_count": 3,
     "metadata": {},
     "output_type": "execute_result"
    }
   ],
   "source": [
    "df.head(2)"
   ]
  },
  {
   "cell_type": "code",
   "execution_count": 5,
   "id": "08973eb7",
   "metadata": {},
   "outputs": [
    {
     "data": {
      "text/plain": [
       "(2845342, 47)"
      ]
     },
     "execution_count": 5,
     "metadata": {},
     "output_type": "execute_result"
    }
   ],
   "source": [
    "df.shape"
   ]
  },
  {
   "cell_type": "code",
   "execution_count": 78,
   "id": "1e4a88e9",
   "metadata": {},
   "outputs": [
    {
     "data": {
      "text/plain": [
       "<AxesSubplot:>"
      ]
     },
     "execution_count": 78,
     "metadata": {},
     "output_type": "execute_result"
    },
    {
     "data": {
      "image/png": "[encoded data removed]",
      "text/plain": [
       "<Figure size 720x432 with 1 Axes>"
      ]
     },
     "metadata": {
      "needs_background": "light"
     },
     "output_type": "display_data"
    }
   ],
   "source": [
    "# Find the number of Missing values\n",
    "plt.figure(figsize=(10,6))\n",
    "df.isna().sum().sort_values(ascending=False)\n",
    "missing_percentage = df.isna().sum().sort_values(ascending=False) / len(df)\n",
    "missing_percentage[missing_percentage !=0].plot(kind= 'barh'  , color='#32cedd')"
   ]
  },
  {
   "cell_type": "markdown",
   "id": "f041dea4",
   "metadata": {},
   "source": [
    "# Top 10 Cities in US with most number of Accidents (2016-2021)"
   ]
  },
  {
   "cell_type": "code",
   "execution_count": 7,
   "id": "7545fc53",
   "metadata": {},
   "outputs": [],
   "source": [
    "# create a data frame with top 10 cities\n",
    "\n",
    "Top_10_cities=df['City'].value_counts().sort_values(ascending=False)[:10]"
   ]
  },
  {
   "cell_type": "code",
   "execution_count": 8,
   "id": "35a21c78",
   "metadata": {},
   "outputs": [],
   "source": [
    "new_df =Top_10_cities.rename_axis('City').reset_index(name='Count of Accidents')"
   ]
  },
  {
   "cell_type": "code",
   "execution_count": 9,
   "id": "a463d5a4",
   "metadata": {},
   "outputs": [
    {
     "data": {
      "text/plain": [
       "<bound method NDFrame.head of           City  Count of Accidents\n",
       "0        Miami              106966\n",
       "1  Los Angeles               68956\n",
       "2      Orlando               54691\n",
       "3       Dallas               41979\n",
       "4      Houston               39448\n",
       "5    Charlotte               33152\n",
       "6   Sacramento               32559\n",
       "7    San Diego               26627\n",
       "8      Raleigh               22840\n",
       "9  Minneapolis               22768>"
      ]
     },
     "execution_count": 9,
     "metadata": {},
     "output_type": "execute_result"
    }
   ],
   "source": [
    "new_df.head"
   ]
  },
  {
   "cell_type": "code",
   "execution_count": 10,
   "id": "0a1f75e0",
   "metadata": {},
   "outputs": [],
   "source": [
    "# Get Total number of accidents which is required for percentage\n",
    "\n",
    "Total_count = df.shape[0]\n"
   ]
  },
  {
   "cell_type": "code",
   "execution_count": 11,
   "id": "4a3fc64f",
   "metadata": {},
   "outputs": [],
   "source": [
    "# Add new column 'Percentage' in the new Dataframe\n",
    "\n",
    "percentage=[]\n",
    "for i in range(10):\n",
    "    pct= (new_df['Count of Accidents'][i] / Total_count) * 100\n",
    "    percentage.append(round(pct,2))"
   ]
  },
  {
   "cell_type": "code",
   "execution_count": 12,
   "id": "cc8b4c96",
   "metadata": {},
   "outputs": [],
   "source": [
    " new_df['Percentage']=percentage"
   ]
  },
  {
   "cell_type": "code",
   "execution_count": 13,
   "id": "fa4c32d7",
   "metadata": {},
   "outputs": [
    {
     "data": {
      "text/html": [
       "<div>\n",
       "<style scoped>\n",
       "    .dataframe tbody tr th:only-of-type {\n",
       "        vertical-align: middle;\n",
       "    }\n",
       "\n",
       "    .dataframe tbody tr th {\n",
       "        vertical-align: top;\n",
       "    }\n",
       "\n",
       "    .dataframe thead th {\n",
       "        text-align: right;\n",
       "    }\n",
       "</style>\n",
       "<table border=\"1\" class=\"dataframe\">\n",
       "  <thead>\n",
       "    <tr style=\"text-align: right;\">\n",
       "      <th></th>\n",
       "      <th>City</th>\n",
       "      <th>Count of Accidents</th>\n",
       "      <th>Percentage</th>\n",
       "    </tr>\n",
       "  </thead>\n",
       "  <tbody>\n",
       "    <tr>\n",
       "      <th>0</th>\n",
       "      <td>Miami</td>\n",
       "      <td>106966</td>\n",
       "      <td>3.76</td>\n",
       "    </tr>\n",
       "    <tr>\n",
       "      <th>1</th>\n",
       "      <td>Los Angeles</td>\n",
       "      <td>68956</td>\n",
       "      <td>2.42</td>\n",
       "    </tr>\n",
       "    <tr>\n",
       "      <th>2</th>\n",
       "      <td>Orlando</td>\n",
       "      <td>54691</td>\n",
       "      <td>1.92</td>\n",
       "    </tr>\n",
       "    <tr>\n",
       "      <th>3</th>\n",
       "      <td>Dallas</td>\n",
       "      <td>41979</td>\n",
       "      <td>1.48</td>\n",
       "    </tr>\n",
       "    <tr>\n",
       "      <th>4</th>\n",
       "      <td>Houston</td>\n",
       "      <td>39448</td>\n",
       "      <td>1.39</td>\n",
       "    </tr>\n",
       "    <tr>\n",
       "      <th>5</th>\n",
       "      <td>Charlotte</td>\n",
       "      <td>33152</td>\n",
       "      <td>1.17</td>\n",
       "    </tr>\n",
       "    <tr>\n",
       "      <th>6</th>\n",
       "      <td>Sacramento</td>\n",
       "      <td>32559</td>\n",
       "      <td>1.14</td>\n",
       "    </tr>\n",
       "    <tr>\n",
       "      <th>7</th>\n",
       "      <td>San Diego</td>\n",
       "      <td>26627</td>\n",
       "      <td>0.94</td>\n",
       "    </tr>\n",
       "    <tr>\n",
       "      <th>8</th>\n",
       "      <td>Raleigh</td>\n",
       "      <td>22840</td>\n",
       "      <td>0.80</td>\n",
       "    </tr>\n",
       "    <tr>\n",
       "      <th>9</th>\n",
       "      <td>Minneapolis</td>\n",
       "      <td>22768</td>\n",
       "      <td>0.80</td>\n",
       "    </tr>\n",
       "  </tbody>\n",
       "</table>\n",
       "</div>"
      ],
      "text/plain": [
       "          City  Count of Accidents  Percentage\n",
       "0        Miami              106966        3.76\n",
       "1  Los Angeles               68956        2.42\n",
       "2      Orlando               54691        1.92\n",
       "3       Dallas               41979        1.48\n",
       "4      Houston               39448        1.39\n",
       "5    Charlotte               33152        1.17\n",
       "6   Sacramento               32559        1.14\n",
       "7    San Diego               26627        0.94\n",
       "8      Raleigh               22840        0.80\n",
       "9  Minneapolis               22768        0.80"
      ]
     },
     "execution_count": 13,
     "metadata": {},
     "output_type": "execute_result"
    }
   ],
   "source": [
    "new_df"
   ]
  },
  {
   "cell_type": "code",
   "execution_count": 25,
   "id": "c2a47d06",
   "metadata": {},
   "outputs": [
    {
     "data": {
      "text/plain": [
       "Text(0.5, 1.0, 'Top 10 cities with maximum number of Accidents')"
      ]
     },
     "execution_count": 25,
     "metadata": {},
     "output_type": "execute_result"
    },
    {
     "data": {
      "image/png": "[encoded data removed]",
      "text/plain": [
       "<Figure size 720x432 with 1 Axes>"
      ]
     },
     "metadata": {
      "needs_background": "light"
     },
     "output_type": "display_data"
    }
   ],
   "source": [
    "# Plot Bar chart\n",
    "plt.figure(figsize=(10,6))\n",
    "graph= plt.bar(new_df.City , new_df['Count of Accidents'],color='#cde5f3')\n",
    "plt.xticks(rotation =90)\n",
    "plt.title(\"Top 10 cities with maximum number of Accidents\" , fontsize=15  )\n"
   ]
  },
  {
   "cell_type": "markdown",
   "id": "83a500bd",
   "metadata": {},
   "source": [
    "Insights:\n",
    "\n",
    "1. Miami is the city with highest (3.76%) no. of road accidents in US (2016-2021).\n",
    "\n",
    "2. Los Angeles is the city with 2nd highest (2.42%) no. of road accidents in US (2016-2021).\n",
    "\n",
    "3. Around 15.82% accident records of past 6 years are only from these 10 cities out of 19,500 cities in US (as per the dataset)."
   ]
  },
  {
   "cell_type": "code",
   "execution_count": null,
   "id": "f3f63c26",
   "metadata": {},
   "outputs": [],
   "source": [
    "# show percentage label on the bar graph(Working on this)\n",
    "\n",
    "\n",
    "# i=0\n",
    "# for p in graph:\n",
    "#     width = p.get_width()\n",
    "#     height=p.get_height()\n",
    "#     x,y = p.get_xy()\n",
    "#     plt.text( x+width/2 , y+height/2, str(new_df.Percentage[i]))\n",
    "#     i+=1\n",
    "# plt.show()"
   ]
  },
  {
   "cell_type": "markdown",
   "id": "1968f3ab",
   "metadata": {},
   "source": [
    "# Peak time of the accidents during each day"
   ]
  },
  {
   "cell_type": "code",
   "execution_count": 31,
   "id": "1c8f007d",
   "metadata": {},
   "outputs": [
    {
     "data": {
      "text/plain": [
       "Text(0, 0.5, 'No. of Accidents')"
      ]
     },
     "execution_count": 31,
     "metadata": {},
     "output_type": "execute_result"
    },
    {
     "data": {
      "image/png": "[encoded data removed]",
      "text/plain": [
       "<Figure size 720x432 with 1 Axes>"
      ]
     },
     "metadata": {
      "needs_background": "light"
     },
     "output_type": "display_data"
    }
   ],
   "source": [
    "plt.figure(figsize=(10,6))\n",
    "df.Start_Time = pd.to_datetime(df.Start_Time)\n",
    "plt.hist(df.Start_Time.dt.hour,bins=24,color='#b5e9ee' )\n",
    "\n",
    "plt.title(\"Peak time of Accidents\")\n",
    "plt.xlabel('Hours of Day')\n",
    "plt.ylabel(\"No. of Accidents\")\n"
   ]
  },
  {
   "cell_type": "markdown",
   "id": "f5fd31a2",
   "metadata": {},
   "source": [
    "Insights:\n",
    "Most of accidents occured between 3PM and 5PM.\n",
    "And between 7AM and 9AM.\n",
    "More number of cars are on the road because people commute to work."
   ]
  },
  {
   "cell_type": "code",
   "execution_count": 35,
   "id": "4c77cae9",
   "metadata": {},
   "outputs": [
    {
     "data": {
      "text/plain": [
       "(array([419821., 443968., 455037., 463477., 492074., 311691., 259274.]),\n",
       " array([0.        , 0.85714286, 1.71428571, 2.57142857, 3.42857143,\n",
       "        4.28571429, 5.14285714, 6.        ]),\n",
       " <BarContainer object of 7 artists>)"
      ]
     },
     "execution_count": 35,
     "metadata": {},
     "output_type": "execute_result"
    },
    {
     "data": {
      "image/png": "[encoded data removed]",
      "text/plain": [
       "<Figure size 720x432 with 1 Axes>"
      ]
     },
     "metadata": {
      "needs_background": "light"
     },
     "output_type": "display_data"
    }
   ],
   "source": [
    "\n",
    "df.Start_Time.dt.dayofweek\n",
    "plt.figure(figsize=(10,6))\n",
    "plt.title(\"Accidents Mon-Sunday\")\n",
    "plt.xlabel('Day of the week')\n",
    "plt.ylabel(\"No. of Accidents\")\n",
    "plt.hist(df.Start_Time.dt.dayofweek,bins=7,color='#b9edf2')\n",
    "#The day of the week with Monday=0, Sunday=6."
   ]
  },
  {
   "cell_type": "markdown",
   "id": "60e7fe01",
   "metadata": {},
   "source": [
    "Insight:\n",
    "Number of accidents are less on weekends."
   ]
  },
  {
   "cell_type": "markdown",
   "id": "c04e2de9",
   "metadata": {},
   "source": [
    "# Accidents over the Years"
   ]
  },
  {
   "cell_type": "code",
   "execution_count": 63,
   "id": "19492581",
   "metadata": {},
   "outputs": [],
   "source": [
    "df_year=df.Start_Time.dt.year.value_counts()\n",
    "df_year =df_year.rename_axis('Year').reset_index(name='Count')"
   ]
  },
  {
   "cell_type": "code",
   "execution_count": 66,
   "id": "8a8a0bb0",
   "metadata": {},
   "outputs": [],
   "source": [
    "per_year=[]\n",
    "for i in range(df_year.shape[0]):\n",
    "    pct= (df_year['Count'][i] / Total_count) * 100\n",
    "    per_year.append(round(pct,2))"
   ]
  },
  {
   "cell_type": "code",
   "execution_count": 68,
   "id": "525522d7",
   "metadata": {},
   "outputs": [],
   "source": [
    "df_year['per_year'] =per_year"
   ]
  },
  {
   "cell_type": "code",
   "execution_count": 69,
   "id": "2aa17c13",
   "metadata": {},
   "outputs": [
    {
     "data": {
      "text/html": [
       "<div>\n",
       "<style scoped>\n",
       "    .dataframe tbody tr th:only-of-type {\n",
       "        vertical-align: middle;\n",
       "    }\n",
       "\n",
       "    .dataframe tbody tr th {\n",
       "        vertical-align: top;\n",
       "    }\n",
       "\n",
       "    .dataframe thead th {\n",
       "        text-align: right;\n",
       "    }\n",
       "</style>\n",
       "<table border=\"1\" class=\"dataframe\">\n",
       "  <thead>\n",
       "    <tr style=\"text-align: right;\">\n",
       "      <th></th>\n",
       "      <th>Year</th>\n",
       "      <th>Count</th>\n",
       "      <th>per_year</th>\n",
       "    </tr>\n",
       "  </thead>\n",
       "  <tbody>\n",
       "    <tr>\n",
       "      <th>0</th>\n",
       "      <td>2021</td>\n",
       "      <td>1511745</td>\n",
       "      <td>53.13</td>\n",
       "    </tr>\n",
       "    <tr>\n",
       "      <th>1</th>\n",
       "      <td>2020</td>\n",
       "      <td>625864</td>\n",
       "      <td>22.00</td>\n",
       "    </tr>\n",
       "    <tr>\n",
       "      <th>2</th>\n",
       "      <td>2019</td>\n",
       "      <td>258615</td>\n",
       "      <td>9.09</td>\n",
       "    </tr>\n",
       "    <tr>\n",
       "      <th>3</th>\n",
       "      <td>2017</td>\n",
       "      <td>163918</td>\n",
       "      <td>5.76</td>\n",
       "    </tr>\n",
       "    <tr>\n",
       "      <th>4</th>\n",
       "      <td>2018</td>\n",
       "      <td>163176</td>\n",
       "      <td>5.73</td>\n",
       "    </tr>\n",
       "    <tr>\n",
       "      <th>5</th>\n",
       "      <td>2016</td>\n",
       "      <td>122024</td>\n",
       "      <td>4.29</td>\n",
       "    </tr>\n",
       "  </tbody>\n",
       "</table>\n",
       "</div>"
      ],
      "text/plain": [
       "   Year    Count  per_year\n",
       "0  2021  1511745     53.13\n",
       "1  2020   625864     22.00\n",
       "2  2019   258615      9.09\n",
       "3  2017   163918      5.76\n",
       "4  2018   163176      5.73\n",
       "5  2016   122024      4.29"
      ]
     },
     "execution_count": 69,
     "metadata": {},
     "output_type": "execute_result"
    }
   ],
   "source": [
    "df_year"
   ]
  },
  {
   "cell_type": "code",
   "execution_count": 75,
   "id": "580b7dfb",
   "metadata": {},
   "outputs": [
    {
     "data": {
      "text/plain": [
       "Text(0, 0.5, '% Rise in accident')"
      ]
     },
     "execution_count": 75,
     "metadata": {},
     "output_type": "execute_result"
    },
    {
     "data": {
      "image/png": "[encoded data removed]",
      "text/plain": [
       "<Figure size 720x432 with 1 Axes>"
      ]
     },
     "metadata": {
      "needs_background": "light"
     },
     "output_type": "display_data"
    }
   ],
   "source": [
    "\n",
    "plt.figure(figsize=(10,6))\n",
    "plt.plot(df_year.Year,df_year.per_year)\n",
    "plt.title(\"Accidents over Year\")\n",
    "plt.xlabel('Years')\n",
    "plt.ylabel(\"% Rise in accident\")"
   ]
  },
  {
   "cell_type": "markdown",
   "id": "44d6084b",
   "metadata": {},
   "source": [
    "Insights:\n",
    "\n",
    "1.From the above figure, it is clear that in last 6 years (2016-2021) in US accidents percentage has increased significantly.\n",
    "\n",
    "2.53% of the total road accident of last 6 years happened in 2021."
   ]
  },
  {
   "cell_type": "markdown",
   "id": "47416dde",
   "metadata": {},
   "source": [
    "# Severity of Accidents \n"
   ]
  },
  {
   "cell_type": "code",
   "execution_count": 77,
   "id": "981124de",
   "metadata": {},
   "outputs": [
    {
     "data": {
      "text/plain": [
       "Text(0.5, 1.0, 'Impact on the Traffic due to Accident')"
      ]
     },
     "execution_count": 77,
     "metadata": {},
     "output_type": "execute_result"
    },
    {
     "data": {
      "image/png": "[encoded data removed]",
      "text/plain": [
       "<Figure size 432x432 with 1 Axes>"
      ]
     },
     "metadata": {},
     "output_type": "display_data"
    }
   ],
   "source": [
    "\n",
    "fig = plt.figure(figsize=(6,6))\n",
    "df.Severity.value_counts().plot.pie(autopct='%1.1f%%',shadow=True)\n",
    "plt.title(\"Impact on the Traffic due to Accident\")"
   ]
  },
  {
   "cell_type": "markdown",
   "id": "8d2cd81d",
   "metadata": {},
   "source": [
    "Insight:\n",
    "1 In 89%  Cases of road accidents, the impact on the traffic was Moderate (Severity-2).\n",
    "2 In 4.6% Cases of road accidents, the impact on the traffic was highly Severe (Severity-4)."
   ]
  },
  {
   "cell_type": "code",
   "execution_count": null,
   "id": "c2bba6f3",
   "metadata": {},
   "outputs": [],
   "source": []
  }
 ],
 "metadata": {
  "kernelspec": {
   "display_name": "Python 3",
   "language": "python",
   "name": "python3"
  },
  "language_info": {
   "codemirror_mode": {
    "name": "ipython",
    "version": 3
   },
   "file_extension": ".py",
   "mimetype": "text/x-python",
   "name": "python",
   "nbconvert_exporter": "python",
   "pygments_lexer": "ipython3",
   "version": "3.9.10"
  }
 },
 "nbformat": 4,
 "nbformat_minor": 5
}
